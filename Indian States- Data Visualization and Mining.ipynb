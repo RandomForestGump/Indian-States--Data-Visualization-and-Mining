{
 "cells": [
  {
   "cell_type": "code",
   "execution_count": 4,
   "metadata": {
    "collapsed": true
   },
   "outputs": [],
   "source": [
    "import os\n",
    "import pandas as pd\n",
    "import numpy as np\n",
    "from pandas import DataFrame,Series\n",
    "import matplotlib.pyplot as plt\n",
    "import seaborn as sns\n",
    "%matplotlib inline\n",
    "import os\n",
    "os.chdir(\"C:\\\\Users\\\\RAJA  IIT\\\\Desktop\")"
   ]
  },
  {
   "cell_type": "code",
   "execution_count": 9,
   "metadata": {
    "collapsed": false
   },
   "outputs": [
    {
     "data": {
      "text/plain": [
       "(590, 82)"
      ]
     },
     "execution_count": 9,
     "metadata": {},
     "output_type": "execute_result"
    }
   ],
   "source": [
    "df=pd.read_csv('all.csv')\n",
    "df.shape"
   ]
  },
  {
   "cell_type": "code",
   "execution_count": 10,
   "metadata": {
    "collapsed": false
   },
   "outputs": [
    {
     "data": {
      "text/html": [
       "<div>\n",
       "<table border=\"1\" class=\"dataframe\">\n",
       "  <thead>\n",
       "    <tr style=\"text-align: right;\">\n",
       "      <th></th>\n",
       "      <th>Unnamed: 0</th>\n",
       "      <th>State</th>\n",
       "      <th>District</th>\n",
       "      <th>Persons</th>\n",
       "      <th>Males</th>\n",
       "      <th>Females</th>\n",
       "      <th>Growth..1991...2001.</th>\n",
       "      <th>Rural</th>\n",
       "      <th>Urban</th>\n",
       "      <th>Scheduled.Caste.population</th>\n",
       "      <th>...</th>\n",
       "      <th>Medical.facility</th>\n",
       "      <th>Primary.Health.Centre</th>\n",
       "      <th>Primary.Health.Sub.Centre</th>\n",
       "      <th>Post..telegraph.and.telephone.facility</th>\n",
       "      <th>Bus.services</th>\n",
       "      <th>Paved.approach.road</th>\n",
       "      <th>Mud.approach.road</th>\n",
       "      <th>Permanent.House</th>\n",
       "      <th>Semi.permanent.House</th>\n",
       "      <th>Temporary.House</th>\n",
       "    </tr>\n",
       "  </thead>\n",
       "  <tbody>\n",
       "    <tr>\n",
       "      <th>0</th>\n",
       "      <td>1</td>\n",
       "      <td>AN</td>\n",
       "      <td>District Andamans (01), Andaman &amp; Nicobar Isla...</td>\n",
       "      <td>314084</td>\n",
       "      <td>170319</td>\n",
       "      <td>143765</td>\n",
       "      <td>30.14</td>\n",
       "      <td>197886</td>\n",
       "      <td>116198</td>\n",
       "      <td>-</td>\n",
       "      <td>...</td>\n",
       "      <td>102</td>\n",
       "      <td>16</td>\n",
       "      <td>78</td>\n",
       "      <td>161.0</td>\n",
       "      <td>187</td>\n",
       "      <td>201</td>\n",
       "      <td>243</td>\n",
       "      <td>28.7</td>\n",
       "      <td>39.1</td>\n",
       "      <td>32.0</td>\n",
       "    </tr>\n",
       "    <tr>\n",
       "      <th>1</th>\n",
       "      <td>2</td>\n",
       "      <td>AN</td>\n",
       "      <td>District Nicobars (02), Andaman &amp; Nicobar Isla...</td>\n",
       "      <td>42068</td>\n",
       "      <td>22653</td>\n",
       "      <td>19415</td>\n",
       "      <td>7.19</td>\n",
       "      <td>42068</td>\n",
       "      <td>-</td>\n",
       "      <td>-</td>\n",
       "      <td>...</td>\n",
       "      <td>38</td>\n",
       "      <td>4</td>\n",
       "      <td>31</td>\n",
       "      <td>36.0</td>\n",
       "      <td>49</td>\n",
       "      <td>51</td>\n",
       "      <td>111</td>\n",
       "      <td>28.0</td>\n",
       "      <td>33.3</td>\n",
       "      <td>38.7</td>\n",
       "    </tr>\n",
       "    <tr>\n",
       "      <th>2</th>\n",
       "      <td>3</td>\n",
       "      <td>Andhra</td>\n",
       "      <td>District Adilabad (01), Andhra Pradesh (28)</td>\n",
       "      <td>2488003</td>\n",
       "      <td>1250958</td>\n",
       "      <td>1237045</td>\n",
       "      <td>19.06</td>\n",
       "      <td>1827986</td>\n",
       "      <td>NaN</td>\n",
       "      <td>NaN</td>\n",
       "      <td>...</td>\n",
       "      <td>976</td>\n",
       "      <td>61</td>\n",
       "      <td>432</td>\n",
       "      <td>558.0</td>\n",
       "      <td>814</td>\n",
       "      <td>979</td>\n",
       "      <td>544</td>\n",
       "      <td>53.0</td>\n",
       "      <td>39.9</td>\n",
       "      <td>7.0</td>\n",
       "    </tr>\n",
       "    <tr>\n",
       "      <th>3</th>\n",
       "      <td>4</td>\n",
       "      <td>Andhra</td>\n",
       "      <td>District Nizamabad (02), Andhra Pradesh (28)</td>\n",
       "      <td>2345685</td>\n",
       "      <td>1162905</td>\n",
       "      <td>1182780</td>\n",
       "      <td>14.98</td>\n",
       "      <td>1920947</td>\n",
       "      <td>NaN</td>\n",
       "      <td>NaN</td>\n",
       "      <td>...</td>\n",
       "      <td>614</td>\n",
       "      <td>50</td>\n",
       "      <td>330</td>\n",
       "      <td>602.0</td>\n",
       "      <td>746</td>\n",
       "      <td>760</td>\n",
       "      <td>82</td>\n",
       "      <td>52.8</td>\n",
       "      <td>37.6</td>\n",
       "      <td>9.6</td>\n",
       "    </tr>\n",
       "    <tr>\n",
       "      <th>4</th>\n",
       "      <td>5</td>\n",
       "      <td>Andhra</td>\n",
       "      <td>District Karimnagar (03), Andhra Pradesh (28)</td>\n",
       "      <td>3491822</td>\n",
       "      <td>1747968</td>\n",
       "      <td>1743854</td>\n",
       "      <td>14.47</td>\n",
       "      <td>2813010</td>\n",
       "      <td>NaN</td>\n",
       "      <td>NaN</td>\n",
       "      <td>...</td>\n",
       "      <td>863</td>\n",
       "      <td>70</td>\n",
       "      <td>475</td>\n",
       "      <td>795.0</td>\n",
       "      <td>912</td>\n",
       "      <td>823</td>\n",
       "      <td>218</td>\n",
       "      <td>55.8</td>\n",
       "      <td>36.4</td>\n",
       "      <td>7.8</td>\n",
       "    </tr>\n",
       "  </tbody>\n",
       "</table>\n",
       "<p>5 rows × 82 columns</p>\n",
       "</div>"
      ],
      "text/plain": [
       "   Unnamed: 0   State                                           District  \\\n",
       "0           1      AN  District Andamans (01), Andaman & Nicobar Isla...   \n",
       "1           2      AN  District Nicobars (02), Andaman & Nicobar Isla...   \n",
       "2           3  Andhra        District Adilabad (01), Andhra Pradesh (28)   \n",
       "3           4  Andhra       District Nizamabad (02), Andhra Pradesh (28)   \n",
       "4           5  Andhra      District Karimnagar (03), Andhra Pradesh (28)   \n",
       "\n",
       "   Persons    Males  Females Growth..1991...2001.    Rural   Urban  \\\n",
       "0   314084   170319   143765                30.14   197886  116198   \n",
       "1    42068    22653    19415                 7.19    42068       -   \n",
       "2  2488003  1250958  1237045                19.06  1827986     NaN   \n",
       "3  2345685  1162905  1182780                14.98  1920947     NaN   \n",
       "4  3491822  1747968  1743854                14.47  2813010     NaN   \n",
       "\n",
       "  Scheduled.Caste.population       ...        Medical.facility  \\\n",
       "0                          -       ...                     102   \n",
       "1                          -       ...                      38   \n",
       "2                        NaN       ...                     976   \n",
       "3                        NaN       ...                     614   \n",
       "4                        NaN       ...                     863   \n",
       "\n",
       "   Primary.Health.Centre  Primary.Health.Sub.Centre  \\\n",
       "0                     16                         78   \n",
       "1                      4                         31   \n",
       "2                     61                        432   \n",
       "3                     50                        330   \n",
       "4                     70                        475   \n",
       "\n",
       "   Post..telegraph.and.telephone.facility  Bus.services Paved.approach.road  \\\n",
       "0                                   161.0           187                 201   \n",
       "1                                    36.0            49                  51   \n",
       "2                                   558.0           814                 979   \n",
       "3                                   602.0           746                 760   \n",
       "4                                   795.0           912                 823   \n",
       "\n",
       "  Mud.approach.road  Permanent.House  Semi.permanent.House  Temporary.House  \n",
       "0               243             28.7                  39.1             32.0  \n",
       "1               111             28.0                  33.3             38.7  \n",
       "2               544             53.0                  39.9              7.0  \n",
       "3                82             52.8                  37.6              9.6  \n",
       "4               218             55.8                  36.4              7.8  \n",
       "\n",
       "[5 rows x 82 columns]"
      ]
     },
     "execution_count": 10,
     "metadata": {},
     "output_type": "execute_result"
    }
   ],
   "source": [
    "df.head()"
   ]
  },
  {
   "cell_type": "code",
   "execution_count": 8,
   "metadata": {
    "collapsed": false
   },
   "outputs": [
    {
     "data": {
      "text/plain": [
       "Index(['Unnamed: 0', 'State', 'District', 'Persons', 'Males', 'Females',\n",
       "       'Growth..1991...2001.', 'Rural', 'Urban', 'Scheduled.Caste.population',\n",
       "       'Percentage...SC.to.total', 'Number.of.households',\n",
       "       'Household.size..per.household.', 'Sex.ratio..females.per.1000.males.',\n",
       "       'Sex.ratio..0.6.years.', 'Scheduled.Tribe.population',\n",
       "       'Percentage.to.total.population..ST.', 'Persons..literate',\n",
       "       'Males..Literate', 'Females..Literate', 'Persons..literacy.rate',\n",
       "       'Males..Literatacy.Rate', 'Females..Literacy.Rate', 'Total.Educated',\n",
       "       'Data.without.level', 'Below.Primary', 'Primary', 'Middle',\n",
       "       'Matric.Higher.Secondary.Diploma', 'Graduate.and.Above', 'X0...4.years',\n",
       "       'X5...14.years', 'X15...59.years', 'X60.years.and.above..Incl..A.N.S..',\n",
       "       'Total.workers', 'Main.workers', 'Marginal.workers', 'Non.workers',\n",
       "       'SC.1.Name', 'SC.1.Population', 'SC.2.Name', 'SC.2.Population',\n",
       "       'SC.3.Name', 'SC.3.Population', 'Religeon.1.Name',\n",
       "       'Religeon.1.Population', 'Religeon.2.Name', 'Religeon.2.Population',\n",
       "       'Religeon.3.Name', 'Religeon.3.Population', 'ST.1.Name',\n",
       "       'ST.1.Population', 'ST.2.Name', 'ST.2.Population', 'ST.3.Name',\n",
       "       'ST.3.Population', 'Imp.Town.1.Name', 'Imp.Town.1.Population',\n",
       "       'Imp.Town.2.Name', 'Imp.Town.2.Population', 'Imp.Town.3.Name',\n",
       "       'Imp.Town.3.Population', 'Total.Inhabited.Villages',\n",
       "       'Drinking.water.facilities', 'Safe.Drinking.water',\n",
       "       'Electricity..Power.Supply.', 'Electricity..domestic.',\n",
       "       'Electricity..Agriculture.', 'Primary.school', 'Middle.schools',\n",
       "       'Secondary.Sr.Secondary.schools', 'College', 'Medical.facility',\n",
       "       'Primary.Health.Centre', 'Primary.Health.Sub.Centre',\n",
       "       'Post..telegraph.and.telephone.facility', 'Bus.services',\n",
       "       'Paved.approach.road', 'Mud.approach.road', 'Permanent.House',\n",
       "       'Semi.permanent.House', 'Temporary.House'],\n",
       "      dtype='object')"
      ]
     },
     "execution_count": 8,
     "metadata": {},
     "output_type": "execute_result"
    }
   ],
   "source": [
    "df.columns"
   ]
  },
  {
   "cell_type": "code",
   "execution_count": 15,
   "metadata": {
    "collapsed": false
   },
   "outputs": [
    {
     "data": {
      "text/plain": [
       "Unnamed: 0                                  int64\n",
       "State                                      object\n",
       "District                                   object\n",
       "Persons                                     int64\n",
       "Males                                       int64\n",
       "Females                                     int64\n",
       "Growth..1991...2001.                       object\n",
       "Rural                                      object\n",
       "Urban                                      object\n",
       "Scheduled.Caste.population                 object\n",
       "Percentage...SC.to.total                   object\n",
       "Number.of.households                      float64\n",
       "Household.size..per.household.            float64\n",
       "Sex.ratio..females.per.1000.males.        float64\n",
       "Sex.ratio..0.6.years.                     float64\n",
       "Scheduled.Tribe.population                 object\n",
       "Percentage.to.total.population..ST.        object\n",
       "Persons..literate                           int64\n",
       "Males..Literate                             int64\n",
       "Females..Literate                           int64\n",
       "Persons..literacy.rate                    float64\n",
       "Males..Literatacy.Rate                    float64\n",
       "Females..Literacy.Rate                    float64\n",
       "Total.Educated                            float64\n",
       "Data.without.level                        float64\n",
       "Below.Primary                             float64\n",
       "Primary                                   float64\n",
       "Middle                                    float64\n",
       "Matric.Higher.Secondary.Diploma           float64\n",
       "Graduate.and.Above                        float64\n",
       "                                           ...   \n",
       "ST.2.Name                                  object\n",
       "ST.2.Population                            object\n",
       "ST.3.Name                                  object\n",
       "ST.3.Population                            object\n",
       "Imp.Town.1.Name                            object\n",
       "Imp.Town.1.Population                     float64\n",
       "Imp.Town.2.Name                            object\n",
       "Imp.Town.2.Population                     float64\n",
       "Imp.Town.3.Name                            object\n",
       "Imp.Town.3.Population                     float64\n",
       "Total.Inhabited.Villages                  float64\n",
       "Drinking.water.facilities                 float64\n",
       "Safe.Drinking.water                       float64\n",
       "Electricity..Power.Supply.                float64\n",
       "Electricity..domestic.                     object\n",
       "Electricity..Agriculture.                  object\n",
       "Primary.school                            float64\n",
       "Middle.schools                             object\n",
       "Secondary.Sr.Secondary.schools             object\n",
       "College                                    object\n",
       "Medical.facility                           object\n",
       "Primary.Health.Centre                      object\n",
       "Primary.Health.Sub.Centre                  object\n",
       "Post..telegraph.and.telephone.facility    float64\n",
       "Bus.services                               object\n",
       "Paved.approach.road                        object\n",
       "Mud.approach.road                          object\n",
       "Permanent.House                           float64\n",
       "Semi.permanent.House                      float64\n",
       "Temporary.House                           float64\n",
       "dtype: object"
      ]
     },
     "execution_count": 15,
     "metadata": {},
     "output_type": "execute_result"
    }
   ],
   "source": [
    "df.dtypes"
   ]
  },
  {
   "cell_type": "markdown",
   "metadata": {},
   "source": [
    "# Grouping DataFrame by State Names"
   ]
  },
  {
   "cell_type": "code",
   "execution_count": 29,
   "metadata": {
    "collapsed": false
   },
   "outputs": [
    {
     "name": "stderr",
     "output_type": "stream",
     "text": [
      "C:\\Users\\RAJA  IIT\\Anaconda3\\lib\\site-packages\\ipykernel\\__main__.py:2: FutureWarning: sort(columns=....) is deprecated, use sort_values(by=.....)\n",
      "  from ipykernel import kernelapp as app\n"
     ]
    },
    {
     "data": {
      "text/html": [
       "<div>\n",
       "<table border=\"1\" class=\"dataframe\">\n",
       "  <thead>\n",
       "    <tr style=\"text-align: right;\">\n",
       "      <th></th>\n",
       "      <th>Unnamed: 0</th>\n",
       "      <th>Persons</th>\n",
       "      <th>Males</th>\n",
       "      <th>Females</th>\n",
       "      <th>Number.of.households</th>\n",
       "      <th>Household.size..per.household.</th>\n",
       "      <th>Sex.ratio..females.per.1000.males.</th>\n",
       "      <th>Sex.ratio..0.6.years.</th>\n",
       "      <th>Persons..literate</th>\n",
       "      <th>Males..Literate</th>\n",
       "      <th>...</th>\n",
       "      <th>Imp.Town.3.Population</th>\n",
       "      <th>Total.Inhabited.Villages</th>\n",
       "      <th>Drinking.water.facilities</th>\n",
       "      <th>Safe.Drinking.water</th>\n",
       "      <th>Electricity..Power.Supply.</th>\n",
       "      <th>Primary.school</th>\n",
       "      <th>Post..telegraph.and.telephone.facility</th>\n",
       "      <th>Permanent.House</th>\n",
       "      <th>Semi.permanent.House</th>\n",
       "      <th>Temporary.House</th>\n",
       "    </tr>\n",
       "    <tr>\n",
       "      <th>State</th>\n",
       "      <th></th>\n",
       "      <th></th>\n",
       "      <th></th>\n",
       "      <th></th>\n",
       "      <th></th>\n",
       "      <th></th>\n",
       "      <th></th>\n",
       "      <th></th>\n",
       "      <th></th>\n",
       "      <th></th>\n",
       "      <th></th>\n",
       "      <th></th>\n",
       "      <th></th>\n",
       "      <th></th>\n",
       "      <th></th>\n",
       "      <th></th>\n",
       "      <th></th>\n",
       "      <th></th>\n",
       "      <th></th>\n",
       "      <th></th>\n",
       "      <th></th>\n",
       "    </tr>\n",
       "  </thead>\n",
       "  <tbody>\n",
       "    <tr>\n",
       "      <th>UP</th>\n",
       "      <td>36715</td>\n",
       "      <td>166197921</td>\n",
       "      <td>87565369</td>\n",
       "      <td>78632552</td>\n",
       "      <td>25757640.0</td>\n",
       "      <td>454.0</td>\n",
       "      <td>62659.0</td>\n",
       "      <td>64037.0</td>\n",
       "      <td>75719284</td>\n",
       "      <td>48901413</td>\n",
       "      <td>...</td>\n",
       "      <td>2242235.0</td>\n",
       "      <td>97942.0</td>\n",
       "      <td>96498.0</td>\n",
       "      <td>96444.0</td>\n",
       "      <td>70260.0</td>\n",
       "      <td>67071.0</td>\n",
       "      <td>34000.0</td>\n",
       "      <td>3713.2</td>\n",
       "      <td>1925.0</td>\n",
       "      <td>1361.4</td>\n",
       "    </tr>\n",
       "    <tr>\n",
       "      <th>Maharashtra</th>\n",
       "      <td>9660</td>\n",
       "      <td>96878627</td>\n",
       "      <td>50400596</td>\n",
       "      <td>46478031</td>\n",
       "      <td>19576736.0</td>\n",
       "      <td>173.0</td>\n",
       "      <td>33135.0</td>\n",
       "      <td>32111.0</td>\n",
       "      <td>63965943</td>\n",
       "      <td>37184963</td>\n",
       "      <td>...</td>\n",
       "      <td>2087425.0</td>\n",
       "      <td>41095.0</td>\n",
       "      <td>40918.0</td>\n",
       "      <td>40810.0</td>\n",
       "      <td>40343.0</td>\n",
       "      <td>39149.0</td>\n",
       "      <td>20957.0</td>\n",
       "      <td>1697.8</td>\n",
       "      <td>1523.8</td>\n",
       "      <td>276.2</td>\n",
       "    </tr>\n",
       "    <tr>\n",
       "      <th>Bihar</th>\n",
       "      <td>2923</td>\n",
       "      <td>82998509</td>\n",
       "      <td>43243795</td>\n",
       "      <td>39754714</td>\n",
       "      <td>13744130.0</td>\n",
       "      <td>228.0</td>\n",
       "      <td>33981.0</td>\n",
       "      <td>34837.0</td>\n",
       "      <td>31109577</td>\n",
       "      <td>20644376</td>\n",
       "      <td>...</td>\n",
       "      <td>650793.0</td>\n",
       "      <td>39032.0</td>\n",
       "      <td>39032.0</td>\n",
       "      <td>38935.0</td>\n",
       "      <td>14135.0</td>\n",
       "      <td>28330.0</td>\n",
       "      <td>10157.0</td>\n",
       "      <td>1468.1</td>\n",
       "      <td>1039.5</td>\n",
       "      <td>1192.3</td>\n",
       "    </tr>\n",
       "    <tr>\n",
       "      <th>WB</th>\n",
       "      <td>10467</td>\n",
       "      <td>80176197</td>\n",
       "      <td>41465985</td>\n",
       "      <td>38710212</td>\n",
       "      <td>15872083.0</td>\n",
       "      <td>91.0</td>\n",
       "      <td>16841.0</td>\n",
       "      <td>17268.0</td>\n",
       "      <td>47196401</td>\n",
       "      <td>27452426</td>\n",
       "      <td>...</td>\n",
       "      <td>1706255.0</td>\n",
       "      <td>37955.0</td>\n",
       "      <td>37736.0</td>\n",
       "      <td>37605.0</td>\n",
       "      <td>24606.0</td>\n",
       "      <td>28292.0</td>\n",
       "      <td>12771.0</td>\n",
       "      <td>658.4</td>\n",
       "      <td>723.9</td>\n",
       "      <td>416.9</td>\n",
       "    </tr>\n",
       "    <tr>\n",
       "      <th>Andhra</th>\n",
       "      <td>297</td>\n",
       "      <td>71308587</td>\n",
       "      <td>36067773</td>\n",
       "      <td>35240814</td>\n",
       "      <td>15801644.0</td>\n",
       "      <td>97.0</td>\n",
       "      <td>21536.0</td>\n",
       "      <td>21114.0</td>\n",
       "      <td>37126595</td>\n",
       "      <td>21940112</td>\n",
       "      <td>...</td>\n",
       "      <td>1776596.0</td>\n",
       "      <td>25290.0</td>\n",
       "      <td>25264.0</td>\n",
       "      <td>23794.0</td>\n",
       "      <td>25275.0</td>\n",
       "      <td>23702.0</td>\n",
       "      <td>16383.0</td>\n",
       "      <td>1189.5</td>\n",
       "      <td>502.6</td>\n",
       "      <td>507.3</td>\n",
       "    </tr>\n",
       "  </tbody>\n",
       "</table>\n",
       "<p>5 rows × 47 columns</p>\n",
       "</div>"
      ],
      "text/plain": [
       "             Unnamed: 0    Persons     Males   Females  Number.of.households  \\\n",
       "State                                                                          \n",
       "UP                36715  166197921  87565369  78632552            25757640.0   \n",
       "Maharashtra        9660   96878627  50400596  46478031            19576736.0   \n",
       "Bihar              2923   82998509  43243795  39754714            13744130.0   \n",
       "WB                10467   80176197  41465985  38710212            15872083.0   \n",
       "Andhra              297   71308587  36067773  35240814            15801644.0   \n",
       "\n",
       "             Household.size..per.household.  \\\n",
       "State                                         \n",
       "UP                                    454.0   \n",
       "Maharashtra                           173.0   \n",
       "Bihar                                 228.0   \n",
       "WB                                     91.0   \n",
       "Andhra                                 97.0   \n",
       "\n",
       "             Sex.ratio..females.per.1000.males.  Sex.ratio..0.6.years.  \\\n",
       "State                                                                    \n",
       "UP                                      62659.0                64037.0   \n",
       "Maharashtra                             33135.0                32111.0   \n",
       "Bihar                                   33981.0                34837.0   \n",
       "WB                                      16841.0                17268.0   \n",
       "Andhra                                  21536.0                21114.0   \n",
       "\n",
       "             Persons..literate  Males..Literate       ...         \\\n",
       "State                                                 ...          \n",
       "UP                    75719284         48901413       ...          \n",
       "Maharashtra           63965943         37184963       ...          \n",
       "Bihar                 31109577         20644376       ...          \n",
       "WB                    47196401         27452426       ...          \n",
       "Andhra                37126595         21940112       ...          \n",
       "\n",
       "             Imp.Town.3.Population  Total.Inhabited.Villages  \\\n",
       "State                                                          \n",
       "UP                       2242235.0                   97942.0   \n",
       "Maharashtra              2087425.0                   41095.0   \n",
       "Bihar                     650793.0                   39032.0   \n",
       "WB                       1706255.0                   37955.0   \n",
       "Andhra                   1776596.0                   25290.0   \n",
       "\n",
       "             Drinking.water.facilities  Safe.Drinking.water  \\\n",
       "State                                                         \n",
       "UP                             96498.0              96444.0   \n",
       "Maharashtra                    40918.0              40810.0   \n",
       "Bihar                          39032.0              38935.0   \n",
       "WB                             37736.0              37605.0   \n",
       "Andhra                         25264.0              23794.0   \n",
       "\n",
       "             Electricity..Power.Supply.  Primary.school  \\\n",
       "State                                                     \n",
       "UP                              70260.0         67071.0   \n",
       "Maharashtra                     40343.0         39149.0   \n",
       "Bihar                           14135.0         28330.0   \n",
       "WB                              24606.0         28292.0   \n",
       "Andhra                          25275.0         23702.0   \n",
       "\n",
       "             Post..telegraph.and.telephone.facility  Permanent.House  \\\n",
       "State                                                                  \n",
       "UP                                          34000.0           3713.2   \n",
       "Maharashtra                                 20957.0           1697.8   \n",
       "Bihar                                       10157.0           1468.1   \n",
       "WB                                          12771.0            658.4   \n",
       "Andhra                                      16383.0           1189.5   \n",
       "\n",
       "             Semi.permanent.House  Temporary.House  \n",
       "State                                               \n",
       "UP                         1925.0           1361.4  \n",
       "Maharashtra                1523.8            276.2  \n",
       "Bihar                      1039.5           1192.3  \n",
       "WB                          723.9            416.9  \n",
       "Andhra                      502.6            507.3  \n",
       "\n",
       "[5 rows x 47 columns]"
      ]
     },
     "execution_count": 29,
     "metadata": {},
     "output_type": "execute_result"
    }
   ],
   "source": [
    "states=df.groupby('State').sum()\n",
    "states=states.sort(['Persons'],ascending=[0])\n",
    "states.reset_index()\n",
    "states.head()"
   ]
  },
  {
   "cell_type": "code",
   "execution_count": 35,
   "metadata": {
    "collapsed": false
   },
   "outputs": [
    {
     "data": {
      "text/plain": [
       "Index(['Unnamed: 0', 'Persons', 'Males', 'Females', 'Number.of.households',\n",
       "       'Household.size..per.household.', 'Sex.ratio..females.per.1000.males.',\n",
       "       'Sex.ratio..0.6.years.', 'Persons..literate', 'Males..Literate',\n",
       "       'Females..Literate', 'Persons..literacy.rate', 'Males..Literatacy.Rate',\n",
       "       'Females..Literacy.Rate', 'Total.Educated', 'Data.without.level',\n",
       "       'Below.Primary', 'Primary', 'Middle', 'Matric.Higher.Secondary.Diploma',\n",
       "       'Graduate.and.Above', 'X0...4.years', 'X5...14.years', 'X15...59.years',\n",
       "       'X60.years.and.above..Incl..A.N.S..', 'Total.workers', 'Main.workers',\n",
       "       'Marginal.workers', 'Non.workers', 'SC.1.Population', 'SC.2.Population',\n",
       "       'SC.3.Population', 'Religeon.1.Population', 'Religeon.2.Population',\n",
       "       'Religeon.3.Population', 'Imp.Town.1.Population',\n",
       "       'Imp.Town.2.Population', 'Imp.Town.3.Population',\n",
       "       'Total.Inhabited.Villages', 'Drinking.water.facilities',\n",
       "       'Safe.Drinking.water', 'Electricity..Power.Supply.', 'Primary.school',\n",
       "       'Post..telegraph.and.telephone.facility', 'Permanent.House',\n",
       "       'Semi.permanent.House', 'Temporary.House', 'Literacy Rate'],\n",
       "      dtype='object')"
      ]
     },
     "execution_count": 35,
     "metadata": {},
     "output_type": "execute_result"
    }
   ],
   "source": [
    "states.columns"
   ]
  },
  {
   "cell_type": "markdown",
   "metadata": {},
   "source": [
    "# Creating Literacy Rate Columns"
   ]
  },
  {
   "cell_type": "code",
   "execution_count": 36,
   "metadata": {
    "collapsed": true
   },
   "outputs": [],
   "source": [
    "states['Literacy Rate']=states['Persons..literate']/states['Persons']\n",
    "states['Literacy Rate Male']=states['Males..Literate']/states['Males']\n",
    "states['Literacy Rate Female']=states['Females..Literate']/states['Females']"
   ]
  },
  {
   "cell_type": "code",
   "execution_count": 16,
   "metadata": {
    "collapsed": false
   },
   "outputs": [
    {
     "data": {
      "text/html": [
       "<div>\n",
       "<table border=\"1\" class=\"dataframe\">\n",
       "  <thead>\n",
       "    <tr style=\"text-align: right;\">\n",
       "      <th></th>\n",
       "      <th>Persons</th>\n",
       "      <th>Males</th>\n",
       "      <th>Females</th>\n",
       "    </tr>\n",
       "    <tr>\n",
       "      <th>State</th>\n",
       "      <th></th>\n",
       "      <th></th>\n",
       "      <th></th>\n",
       "    </tr>\n",
       "  </thead>\n",
       "  <tbody>\n",
       "    <tr>\n",
       "      <th>UP</th>\n",
       "      <td>166197921</td>\n",
       "      <td>87565369</td>\n",
       "      <td>78632552</td>\n",
       "    </tr>\n",
       "    <tr>\n",
       "      <th>Maharashtra</th>\n",
       "      <td>96878627</td>\n",
       "      <td>50400596</td>\n",
       "      <td>46478031</td>\n",
       "    </tr>\n",
       "    <tr>\n",
       "      <th>Bihar</th>\n",
       "      <td>82998509</td>\n",
       "      <td>43243795</td>\n",
       "      <td>39754714</td>\n",
       "    </tr>\n",
       "    <tr>\n",
       "      <th>WB</th>\n",
       "      <td>80176197</td>\n",
       "      <td>41465985</td>\n",
       "      <td>38710212</td>\n",
       "    </tr>\n",
       "    <tr>\n",
       "      <th>Andhra</th>\n",
       "      <td>71308587</td>\n",
       "      <td>36067773</td>\n",
       "      <td>35240814</td>\n",
       "    </tr>\n",
       "  </tbody>\n",
       "</table>\n",
       "</div>"
      ],
      "text/plain": [
       "               Persons     Males   Females\n",
       "State                                     \n",
       "UP           166197921  87565369  78632552\n",
       "Maharashtra   96878627  50400596  46478031\n",
       "Bihar         82998509  43243795  39754714\n",
       "WB            80176197  41465985  38710212\n",
       "Andhra        71308587  36067773  35240814"
      ]
     },
     "execution_count": 16,
     "metadata": {},
     "output_type": "execute_result"
    }
   ],
   "source": [
    "population=states[['Persons','Males','Females']]\n",
    "population.head()"
   ]
  },
  {
   "cell_type": "markdown",
   "metadata": {},
   "source": [
    "# Barplot of Population v/s State"
   ]
  },
  {
   "cell_type": "code",
   "execution_count": 22,
   "metadata": {
    "collapsed": false
   },
   "outputs": [
    {
     "data": {
      "text/plain": [
       "<matplotlib.figure.Figure at 0x5e5b2ad080>"
      ]
     },
     "metadata": {},
     "output_type": "display_data"
    },
    {
     "data": {
      "image/png": "[encoded data removed]",
      "text/plain": [
       "<matplotlib.figure.Figure at 0x5e5a46ad30>"
      ]
     },
     "metadata": {},
     "output_type": "display_data"
    }
   ],
   "source": [
    "ax=plt.figure(figsize=(40,20))\n",
    "ax=population.plot(kind='bar',stacked=True)\n",
    "ax.set_axis_bgcolor('orange')"
   ]
  },
  {
   "cell_type": "markdown",
   "metadata": {},
   "source": [
    "# Education Standards Pie-chart"
   ]
  },
  {
   "cell_type": "code",
   "execution_count": 23,
   "metadata": {
    "collapsed": false
   },
   "outputs": [
    {
     "data": {
      "image/png": "[encoded data removed]",
      "text/plain": [
       "<matplotlib.figure.Figure at 0x5e5a4c0e10>"
      ]
     },
     "metadata": {},
     "output_type": "display_data"
    }
   ],
   "source": [
    "sum_df=df.sum()\n",
    "\n",
    "labels = 'Graduate.and.Above','Below.Primary', 'Primary', 'Middle','Matric.Higher.Secondary.Diploma' \n",
    "size = [sum_df['Graduate.and.Above'],sum_df['Below.Primary'],sum_df['Primary'],sum_df['Middle'],sum_df['Matric.Higher.Secondary.Diploma']]\n",
    "colors = ['gold', 'yellowgreen', 'lightcoral', 'lightskyblue','red']\n",
    "explode = (0.1, 0, 0, 0,0)  # explode 1st slice\n",
    " \n",
    "# Plot\n",
    "plt.pie(size, explode=explode, labels=labels, colors=colors,\n",
    "        autopct='%1.1f%%', shadow=True, startangle=140)\n",
    " \n",
    "plt.axis('equal')\n",
    "plt.show()\n"
   ]
  },
  {
   "cell_type": "markdown",
   "metadata": {},
   "source": [
    "# Barplot of safe drinking water facilities v/s State"
   ]
  },
  {
   "cell_type": "code",
   "execution_count": 26,
   "metadata": {
    "collapsed": false
   },
   "outputs": [
    {
     "name": "stderr",
     "output_type": "stream",
     "text": [
      "C:\\Users\\RAJA  IIT\\Anaconda3\\lib\\site-packages\\ipykernel\\__main__.py:4: FutureWarning: sort(columns=....) is deprecated, use sort_values(by=.....)\n"
     ]
    },
    {
     "data": {
      "text/plain": [
       "<matplotlib.figure.Figure at 0x5e5b489f98>"
      ]
     },
     "metadata": {},
     "output_type": "display_data"
    },
    {
     "data": {
      "text/plain": [
       "<matplotlib.figure.Figure at 0x5e5ad5feb8>"
      ]
     },
     "metadata": {},
     "output_type": "display_data"
    },
    {
     "data": {
      "image/png": "[encoded data removed]",
      "text/plain": [
       "<matplotlib.figure.Figure at 0x5e5a106ba8>"
      ]
     },
     "metadata": {},
     "output_type": "display_data"
    }
   ],
   "source": [
    "water=states[['Drinking.water.facilities','Safe.Drinking.water']]\n",
    "fig = plt.figure(figsize=(20,10))\n",
    "plt.figure(figsize=(20,10))\n",
    "fig=(water.sort(['Safe.Drinking.water'],ascending=[0])).plot(kind='bar',stacked=True)\n",
    "fig.set_axis_bgcolor('orange')"
   ]
  },
  {
   "cell_type": "markdown",
   "metadata": {},
   "source": [
    "# # Barplot of Primary Schools in various States"
   ]
  },
  {
   "cell_type": "code",
   "execution_count": 28,
   "metadata": {
    "collapsed": false
   },
   "outputs": [
    {
     "name": "stderr",
     "output_type": "stream",
     "text": [
      "C:\\Users\\RAJA  IIT\\Anaconda3\\lib\\site-packages\\ipykernel\\__main__.py:3: FutureWarning: sort(columns=....) is deprecated, use sort_values(by=.....)\n",
      "  app.launch_new_instance()\n"
     ]
    },
    {
     "data": {
      "text/plain": [
       "<matplotlib.figure.Figure at 0x5e5bf56400>"
      ]
     },
     "metadata": {},
     "output_type": "display_data"
    },
    {
     "data": {
      "image/png": "[encoded data removed]",
      "text/plain": [
       "<matplotlib.figure.Figure at 0x5e5bf38ef0>"
      ]
     },
     "metadata": {},
     "output_type": "display_data"
    }
   ],
   "source": [
    "fig = plt.figure(figsize=(20,10))\n",
    "school=DataFrame(states['Primary.school'])\n",
    "sorted_School=school.sort(['Primary.school'],ascending=[0])\n",
    "fig=sorted_School.plot(kind='bar',cmap='jet')\n",
    "fig.set_axis_bgcolor('green')"
   ]
  },
  {
   "cell_type": "code",
   "execution_count": 79,
   "metadata": {
    "collapsed": false
   },
   "outputs": [
    {
     "data": {
      "text/plain": [
       "0.5921802366272241"
      ]
     },
     "execution_count": 79,
     "metadata": {},
     "output_type": "execute_result"
    }
   ],
   "source": [
    "mean=states['Literacy Rate'].mean()\n",
    "mean"
   ]
  },
  {
   "cell_type": "code",
   "execution_count": 90,
   "metadata": {
    "collapsed": false,
    "scrolled": true
   },
   "outputs": [
    {
     "data": {
      "text/html": [
       "<div>\n",
       "<table border=\"1\" class=\"dataframe\">\n",
       "  <thead>\n",
       "    <tr style=\"text-align: right;\">\n",
       "      <th></th>\n",
       "      <th>Unnamed: 0</th>\n",
       "      <th>Persons</th>\n",
       "      <th>Males</th>\n",
       "      <th>Females</th>\n",
       "      <th>Number.of.households</th>\n",
       "      <th>Household.size..per.household.</th>\n",
       "      <th>Sex.ratio..females.per.1000.males.</th>\n",
       "      <th>Sex.ratio..0.6.years.</th>\n",
       "      <th>Persons..literate</th>\n",
       "      <th>Males..Literate</th>\n",
       "      <th>...</th>\n",
       "      <th>Safe.Drinking.water</th>\n",
       "      <th>Electricity..Power.Supply.</th>\n",
       "      <th>Primary.school</th>\n",
       "      <th>Post..telegraph.and.telephone.facility</th>\n",
       "      <th>Permanent.House</th>\n",
       "      <th>Semi.permanent.House</th>\n",
       "      <th>Temporary.House</th>\n",
       "      <th>Literacy Rate</th>\n",
       "      <th>Literacy Rate Male</th>\n",
       "      <th>Literacy Rate Female</th>\n",
       "    </tr>\n",
       "  </thead>\n",
       "  <tbody>\n",
       "    <tr>\n",
       "      <th>count</th>\n",
       "      <td>35.000000</td>\n",
       "      <td>3.500000e+01</td>\n",
       "      <td>3.500000e+01</td>\n",
       "      <td>3.500000e+01</td>\n",
       "      <td>3.500000e+01</td>\n",
       "      <td>35.000000</td>\n",
       "      <td>35.000000</td>\n",
       "      <td>35.000000</td>\n",
       "      <td>3.500000e+01</td>\n",
       "      <td>3.500000e+01</td>\n",
       "      <td>...</td>\n",
       "      <td>35.000000</td>\n",
       "      <td>35.000000</td>\n",
       "      <td>35.000000</td>\n",
       "      <td>35.000000</td>\n",
       "      <td>35.000000</td>\n",
       "      <td>35.000000</td>\n",
       "      <td>35.000000</td>\n",
       "      <td>35.000000</td>\n",
       "      <td>35.000000</td>\n",
       "      <td>35.000000</td>\n",
       "    </tr>\n",
       "    <tr>\n",
       "      <th>mean</th>\n",
       "      <td>4981.285714</td>\n",
       "      <td>2.921178e+07</td>\n",
       "      <td>1.511513e+07</td>\n",
       "      <td>1.409665e+07</td>\n",
       "      <td>5.464522e+06</td>\n",
       "      <td>91.171429</td>\n",
       "      <td>15677.942857</td>\n",
       "      <td>15587.171429</td>\n",
       "      <td>1.591795e+07</td>\n",
       "      <td>9.559225e+06</td>\n",
       "      <td>...</td>\n",
       "      <td>16382.914286</td>\n",
       "      <td>12794.600000</td>\n",
       "      <td>13158.485714</td>\n",
       "      <td>6931.485714</td>\n",
       "      <td>802.815429</td>\n",
       "      <td>553.858286</td>\n",
       "      <td>328.546571</td>\n",
       "      <td>0.592180</td>\n",
       "      <td>0.667282</td>\n",
       "      <td>0.509921</td>\n",
       "    </tr>\n",
       "    <tr>\n",
       "      <th>std</th>\n",
       "      <td>7035.058487</td>\n",
       "      <td>3.728394e+07</td>\n",
       "      <td>1.943361e+07</td>\n",
       "      <td>1.785913e+07</td>\n",
       "      <td>6.667154e+06</td>\n",
       "      <td>89.705887</td>\n",
       "      <td>13635.537874</td>\n",
       "      <td>13675.944836</td>\n",
       "      <td>1.937618e+07</td>\n",
       "      <td>1.182487e+07</td>\n",
       "      <td>...</td>\n",
       "      <td>20966.128132</td>\n",
       "      <td>16378.707726</td>\n",
       "      <td>16036.748010</td>\n",
       "      <td>8364.289363</td>\n",
       "      <td>796.084453</td>\n",
       "      <td>573.983706</td>\n",
       "      <td>399.018911</td>\n",
       "      <td>0.103891</td>\n",
       "      <td>0.087618</td>\n",
       "      <td>0.126299</td>\n",
       "    </tr>\n",
       "    <tr>\n",
       "      <th>min</th>\n",
       "      <td>3.000000</td>\n",
       "      <td>6.065000e+04</td>\n",
       "      <td>3.113100e+04</td>\n",
       "      <td>2.951900e+04</td>\n",
       "      <td>9.993000e+03</td>\n",
       "      <td>4.000000</td>\n",
       "      <td>777.000000</td>\n",
       "      <td>844.000000</td>\n",
       "      <td>4.468300e+04</td>\n",
       "      <td>2.451100e+04</td>\n",
       "      <td>...</td>\n",
       "      <td>8.000000</td>\n",
       "      <td>8.000000</td>\n",
       "      <td>7.000000</td>\n",
       "      <td>8.000000</td>\n",
       "      <td>32.200000</td>\n",
       "      <td>2.900000</td>\n",
       "      <td>1.800000</td>\n",
       "      <td>0.374821</td>\n",
       "      <td>0.477395</td>\n",
       "      <td>0.263244</td>\n",
       "    </tr>\n",
       "    <tr>\n",
       "      <th>25%</th>\n",
       "      <td>1108.000000</td>\n",
       "      <td>1.222818e+06</td>\n",
       "      <td>6.335945e+05</td>\n",
       "      <td>5.892235e+05</td>\n",
       "      <td>2.551930e+05</td>\n",
       "      <td>30.000000</td>\n",
       "      <td>5448.000000</td>\n",
       "      <td>5344.500000</td>\n",
       "      <td>8.409645e+05</td>\n",
       "      <td>4.618590e+05</td>\n",
       "      <td>...</td>\n",
       "      <td>450.000000</td>\n",
       "      <td>427.000000</td>\n",
       "      <td>511.500000</td>\n",
       "      <td>299.000000</td>\n",
       "      <td>135.050000</td>\n",
       "      <td>112.500000</td>\n",
       "      <td>70.050000</td>\n",
       "      <td>0.522077</td>\n",
       "      <td>0.609841</td>\n",
       "      <td>0.430812</td>\n",
       "    </tr>\n",
       "    <tr>\n",
       "      <th>50%</th>\n",
       "      <td>2500.000000</td>\n",
       "      <td>1.385051e+07</td>\n",
       "      <td>7.607234e+06</td>\n",
       "      <td>6.243273e+06</td>\n",
       "      <td>2.733383e+06</td>\n",
       "      <td>67.000000</td>\n",
       "      <td>13090.000000</td>\n",
       "      <td>13297.000000</td>\n",
       "      <td>9.664764e+06</td>\n",
       "      <td>5.700847e+06</td>\n",
       "      <td>...</td>\n",
       "      <td>6757.000000</td>\n",
       "      <td>6108.000000</td>\n",
       "      <td>6276.000000</td>\n",
       "      <td>3210.000000</td>\n",
       "      <td>619.740000</td>\n",
       "      <td>412.500000</td>\n",
       "      <td>212.200000</td>\n",
       "      <td>0.588655</td>\n",
       "      <td>0.658240</td>\n",
       "      <td>0.510046</td>\n",
       "    </tr>\n",
       "    <tr>\n",
       "      <th>75%</th>\n",
       "      <td>6598.500000</td>\n",
       "      <td>5.176079e+07</td>\n",
       "      <td>2.664225e+07</td>\n",
       "      <td>2.511854e+07</td>\n",
       "      <td>9.428574e+06</td>\n",
       "      <td>124.000000</td>\n",
       "      <td>22412.000000</td>\n",
       "      <td>22222.000000</td>\n",
       "      <td>2.876488e+07</td>\n",
       "      <td>1.774724e+07</td>\n",
       "      <td>...</td>\n",
       "      <td>24106.500000</td>\n",
       "      <td>17623.500000</td>\n",
       "      <td>20930.000000</td>\n",
       "      <td>12922.000000</td>\n",
       "      <td>1284.100000</td>\n",
       "      <td>759.150000</td>\n",
       "      <td>376.200000</td>\n",
       "      <td>0.672552</td>\n",
       "      <td>0.743616</td>\n",
       "      <td>0.582963</td>\n",
       "    </tr>\n",
       "    <tr>\n",
       "      <th>max</th>\n",
       "      <td>36715.000000</td>\n",
       "      <td>1.661979e+08</td>\n",
       "      <td>8.756537e+07</td>\n",
       "      <td>7.863255e+07</td>\n",
       "      <td>2.575764e+07</td>\n",
       "      <td>454.000000</td>\n",
       "      <td>62659.000000</td>\n",
       "      <td>64037.000000</td>\n",
       "      <td>7.571928e+07</td>\n",
       "      <td>4.890141e+07</td>\n",
       "      <td>...</td>\n",
       "      <td>96444.000000</td>\n",
       "      <td>70260.000000</td>\n",
       "      <td>67071.000000</td>\n",
       "      <td>34000.000000</td>\n",
       "      <td>3713.200000</td>\n",
       "      <td>2472.300000</td>\n",
       "      <td>1390.900000</td>\n",
       "      <td>0.800395</td>\n",
       "      <td>0.824483</td>\n",
       "      <td>0.777638</td>\n",
       "    </tr>\n",
       "  </tbody>\n",
       "</table>\n",
       "<p>8 rows × 50 columns</p>\n",
       "</div>"
      ],
      "text/plain": [
       "         Unnamed: 0       Persons         Males       Females  \\\n",
       "count     35.000000  3.500000e+01  3.500000e+01  3.500000e+01   \n",
       "mean    4981.285714  2.921178e+07  1.511513e+07  1.409665e+07   \n",
       "std     7035.058487  3.728394e+07  1.943361e+07  1.785913e+07   \n",
       "min        3.000000  6.065000e+04  3.113100e+04  2.951900e+04   \n",
       "25%     1108.000000  1.222818e+06  6.335945e+05  5.892235e+05   \n",
       "50%     2500.000000  1.385051e+07  7.607234e+06  6.243273e+06   \n",
       "75%     6598.500000  5.176079e+07  2.664225e+07  2.511854e+07   \n",
       "max    36715.000000  1.661979e+08  8.756537e+07  7.863255e+07   \n",
       "\n",
       "       Number.of.households  Household.size..per.household.  \\\n",
       "count          3.500000e+01                       35.000000   \n",
       "mean           5.464522e+06                       91.171429   \n",
       "std            6.667154e+06                       89.705887   \n",
       "min            9.993000e+03                        4.000000   \n",
       "25%            2.551930e+05                       30.000000   \n",
       "50%            2.733383e+06                       67.000000   \n",
       "75%            9.428574e+06                      124.000000   \n",
       "max            2.575764e+07                      454.000000   \n",
       "\n",
       "       Sex.ratio..females.per.1000.males.  Sex.ratio..0.6.years.  \\\n",
       "count                           35.000000              35.000000   \n",
       "mean                         15677.942857           15587.171429   \n",
       "std                          13635.537874           13675.944836   \n",
       "min                            777.000000             844.000000   \n",
       "25%                           5448.000000            5344.500000   \n",
       "50%                          13090.000000           13297.000000   \n",
       "75%                          22412.000000           22222.000000   \n",
       "max                          62659.000000           64037.000000   \n",
       "\n",
       "       Persons..literate  Males..Literate          ...           \\\n",
       "count       3.500000e+01     3.500000e+01          ...            \n",
       "mean        1.591795e+07     9.559225e+06          ...            \n",
       "std         1.937618e+07     1.182487e+07          ...            \n",
       "min         4.468300e+04     2.451100e+04          ...            \n",
       "25%         8.409645e+05     4.618590e+05          ...            \n",
       "50%         9.664764e+06     5.700847e+06          ...            \n",
       "75%         2.876488e+07     1.774724e+07          ...            \n",
       "max         7.571928e+07     4.890141e+07          ...            \n",
       "\n",
       "       Safe.Drinking.water  Electricity..Power.Supply.  Primary.school  \\\n",
       "count            35.000000                   35.000000       35.000000   \n",
       "mean          16382.914286                12794.600000    13158.485714   \n",
       "std           20966.128132                16378.707726    16036.748010   \n",
       "min               8.000000                    8.000000        7.000000   \n",
       "25%             450.000000                  427.000000      511.500000   \n",
       "50%            6757.000000                 6108.000000     6276.000000   \n",
       "75%           24106.500000                17623.500000    20930.000000   \n",
       "max           96444.000000                70260.000000    67071.000000   \n",
       "\n",
       "       Post..telegraph.and.telephone.facility  Permanent.House  \\\n",
       "count                               35.000000        35.000000   \n",
       "mean                              6931.485714       802.815429   \n",
       "std                               8364.289363       796.084453   \n",
       "min                                  8.000000        32.200000   \n",
       "25%                                299.000000       135.050000   \n",
       "50%                               3210.000000       619.740000   \n",
       "75%                              12922.000000      1284.100000   \n",
       "max                              34000.000000      3713.200000   \n",
       "\n",
       "       Semi.permanent.House  Temporary.House  Literacy Rate  \\\n",
       "count             35.000000        35.000000      35.000000   \n",
       "mean             553.858286       328.546571       0.592180   \n",
       "std              573.983706       399.018911       0.103891   \n",
       "min                2.900000         1.800000       0.374821   \n",
       "25%              112.500000        70.050000       0.522077   \n",
       "50%              412.500000       212.200000       0.588655   \n",
       "75%              759.150000       376.200000       0.672552   \n",
       "max             2472.300000      1390.900000       0.800395   \n",
       "\n",
       "       Literacy Rate Male  Literacy Rate Female  \n",
       "count           35.000000             35.000000  \n",
       "mean             0.667282              0.509921  \n",
       "std              0.087618              0.126299  \n",
       "min              0.477395              0.263244  \n",
       "25%              0.609841              0.430812  \n",
       "50%              0.658240              0.510046  \n",
       "75%              0.743616              0.582963  \n",
       "max              0.824483              0.777638  \n",
       "\n",
       "[8 rows x 50 columns]"
      ]
     },
     "execution_count": 90,
     "metadata": {},
     "output_type": "execute_result"
    }
   ],
   "source": [
    "states.describe()"
   ]
  },
  {
   "cell_type": "markdown",
   "metadata": {},
   "source": [
    "# Literacy Rate with 25th, 50th and 75th percentile guide line"
   ]
  },
  {
   "cell_type": "code",
   "execution_count": 91,
   "metadata": {
    "collapsed": false
   },
   "outputs": [
    {
     "data": {
      "text/plain": [
       "<matplotlib.lines.Line2D at 0x5e5ffd6e48>"
      ]
     },
     "execution_count": 91,
     "metadata": {},
     "output_type": "execute_result"
    },
    {
     "data": {
      "image/png": "[encoded data removed]",
      "text/plain": [
       "<matplotlib.figure.Figure at 0x5e5f99a6a0>"
      ]
     },
     "metadata": {},
     "output_type": "display_data"
    }
   ],
   "source": [
    "fig, ax = plt.subplots()\n",
    "fig.set_size_inches(30, 20)\n",
    "sns.barplot(x=states.index,y=\"Literacy Rate\", data=states,ax=ax)\n",
    "plt.axhline(y=mean,xmin=0,c=\"black\",linewidth=1,zorder=0)\n",
    "plt.axhline(y=.52,xmin=0,c=\"black\",linewidth=1,zorder=0)\n",
    "plt.axhline(y=.67,xmin=0,c=\"black\",linewidth=1,zorder=0)"
   ]
  },
  {
   "cell_type": "code",
   "execution_count": 96,
   "metadata": {
    "collapsed": false
   },
   "outputs": [],
   "source": [
    "states['EmployPtage']=states['Total.workers']/states['Persons']"
   ]
  },
  {
   "cell_type": "code",
   "execution_count": 100,
   "metadata": {
    "collapsed": false
   },
   "outputs": [
    {
     "data": {
      "text/html": [
       "<div>\n",
       "<table border=\"1\" class=\"dataframe\">\n",
       "  <thead>\n",
       "    <tr style=\"text-align: right;\">\n",
       "      <th></th>\n",
       "      <th>Persons</th>\n",
       "      <th>Males</th>\n",
       "      <th>Females</th>\n",
       "      <th>Household.size..per.household.</th>\n",
       "      <th>Literacy Rate</th>\n",
       "      <th>Literacy Rate Male</th>\n",
       "      <th>Literacy Rate Female</th>\n",
       "      <th>EmployPtage</th>\n",
       "      <th>Imp.Town.1.Population</th>\n",
       "      <th>Drinking.water.facilities</th>\n",
       "      <th>Total.workers</th>\n",
       "    </tr>\n",
       "  </thead>\n",
       "  <tbody>\n",
       "    <tr>\n",
       "      <th>count</th>\n",
       "      <td>3.500000e+01</td>\n",
       "      <td>3.500000e+01</td>\n",
       "      <td>3.500000e+01</td>\n",
       "      <td>35.000000</td>\n",
       "      <td>35.000000</td>\n",
       "      <td>35.000000</td>\n",
       "      <td>35.000000</td>\n",
       "      <td>35.000000</td>\n",
       "      <td>3.500000e+01</td>\n",
       "      <td>35.000000</td>\n",
       "      <td>3.500000e+01</td>\n",
       "    </tr>\n",
       "    <tr>\n",
       "      <th>mean</th>\n",
       "      <td>2.921178e+07</td>\n",
       "      <td>1.511513e+07</td>\n",
       "      <td>1.409665e+07</td>\n",
       "      <td>91.171429</td>\n",
       "      <td>0.592180</td>\n",
       "      <td>0.667282</td>\n",
       "      <td>0.509921</td>\n",
       "      <td>0.403980</td>\n",
       "      <td>4.084011e+06</td>\n",
       "      <td>16674.000000</td>\n",
       "      <td>1.142197e+07</td>\n",
       "    </tr>\n",
       "    <tr>\n",
       "      <th>std</th>\n",
       "      <td>3.728394e+07</td>\n",
       "      <td>1.943361e+07</td>\n",
       "      <td>1.785913e+07</td>\n",
       "      <td>89.705887</td>\n",
       "      <td>0.103891</td>\n",
       "      <td>0.087618</td>\n",
       "      <td>0.126299</td>\n",
       "      <td>0.059399</td>\n",
       "      <td>5.042389e+06</td>\n",
       "      <td>21028.715804</td>\n",
       "      <td>1.392167e+07</td>\n",
       "    </tr>\n",
       "    <tr>\n",
       "      <th>min</th>\n",
       "      <td>6.065000e+04</td>\n",
       "      <td>3.113100e+04</td>\n",
       "      <td>2.951900e+04</td>\n",
       "      <td>4.000000</td>\n",
       "      <td>0.374821</td>\n",
       "      <td>0.477395</td>\n",
       "      <td>0.263244</td>\n",
       "      <td>0.253157</td>\n",
       "      <td>1.011900e+04</td>\n",
       "      <td>8.000000</td>\n",
       "      <td>1.535400e+04</td>\n",
       "    </tr>\n",
       "    <tr>\n",
       "      <th>25%</th>\n",
       "      <td>1.222818e+06</td>\n",
       "      <td>6.335945e+05</td>\n",
       "      <td>5.892235e+05</td>\n",
       "      <td>30.000000</td>\n",
       "      <td>0.522077</td>\n",
       "      <td>0.609841</td>\n",
       "      <td>0.430812</td>\n",
       "      <td>0.368442</td>\n",
       "      <td>2.874420e+05</td>\n",
       "      <td>603.000000</td>\n",
       "      <td>5.028785e+05</td>\n",
       "    </tr>\n",
       "    <tr>\n",
       "      <th>50%</th>\n",
       "      <td>1.385051e+07</td>\n",
       "      <td>7.607234e+06</td>\n",
       "      <td>6.243273e+06</td>\n",
       "      <td>67.000000</td>\n",
       "      <td>0.588655</td>\n",
       "      <td>0.658240</td>\n",
       "      <td>0.510046</td>\n",
       "      <td>0.396200</td>\n",
       "      <td>2.063711e+06</td>\n",
       "      <td>6757.000000</td>\n",
       "      <td>4.545234e+06</td>\n",
       "    </tr>\n",
       "    <tr>\n",
       "      <th>75%</th>\n",
       "      <td>5.176079e+07</td>\n",
       "      <td>2.664225e+07</td>\n",
       "      <td>2.511854e+07</td>\n",
       "      <td>124.000000</td>\n",
       "      <td>0.672552</td>\n",
       "      <td>0.743616</td>\n",
       "      <td>0.582963</td>\n",
       "      <td>0.442561</td>\n",
       "      <td>6.757940e+06</td>\n",
       "      <td>25193.500000</td>\n",
       "      <td>2.239516e+07</td>\n",
       "    </tr>\n",
       "    <tr>\n",
       "      <th>max</th>\n",
       "      <td>1.661979e+08</td>\n",
       "      <td>8.756537e+07</td>\n",
       "      <td>7.863255e+07</td>\n",
       "      <td>454.000000</td>\n",
       "      <td>0.800395</td>\n",
       "      <td>0.824483</td>\n",
       "      <td>0.777638</td>\n",
       "      <td>0.525741</td>\n",
       "      <td>2.039316e+07</td>\n",
       "      <td>96498.000000</td>\n",
       "      <td>5.398382e+07</td>\n",
       "    </tr>\n",
       "  </tbody>\n",
       "</table>\n",
       "</div>"
      ],
      "text/plain": [
       "            Persons         Males       Females  \\\n",
       "count  3.500000e+01  3.500000e+01  3.500000e+01   \n",
       "mean   2.921178e+07  1.511513e+07  1.409665e+07   \n",
       "std    3.728394e+07  1.943361e+07  1.785913e+07   \n",
       "min    6.065000e+04  3.113100e+04  2.951900e+04   \n",
       "25%    1.222818e+06  6.335945e+05  5.892235e+05   \n",
       "50%    1.385051e+07  7.607234e+06  6.243273e+06   \n",
       "75%    5.176079e+07  2.664225e+07  2.511854e+07   \n",
       "max    1.661979e+08  8.756537e+07  7.863255e+07   \n",
       "\n",
       "       Household.size..per.household.  Literacy Rate  Literacy Rate Male  \\\n",
       "count                       35.000000      35.000000           35.000000   \n",
       "mean                        91.171429       0.592180            0.667282   \n",
       "std                         89.705887       0.103891            0.087618   \n",
       "min                          4.000000       0.374821            0.477395   \n",
       "25%                         30.000000       0.522077            0.609841   \n",
       "50%                         67.000000       0.588655            0.658240   \n",
       "75%                        124.000000       0.672552            0.743616   \n",
       "max                        454.000000       0.800395            0.824483   \n",
       "\n",
       "       Literacy Rate Female  EmployPtage  Imp.Town.1.Population  \\\n",
       "count             35.000000    35.000000           3.500000e+01   \n",
       "mean               0.509921     0.403980           4.084011e+06   \n",
       "std                0.126299     0.059399           5.042389e+06   \n",
       "min                0.263244     0.253157           1.011900e+04   \n",
       "25%                0.430812     0.368442           2.874420e+05   \n",
       "50%                0.510046     0.396200           2.063711e+06   \n",
       "75%                0.582963     0.442561           6.757940e+06   \n",
       "max                0.777638     0.525741           2.039316e+07   \n",
       "\n",
       "       Drinking.water.facilities  Total.workers  \n",
       "count                  35.000000   3.500000e+01  \n",
       "mean                16674.000000   1.142197e+07  \n",
       "std                 21028.715804   1.392167e+07  \n",
       "min                     8.000000   1.535400e+04  \n",
       "25%                   603.000000   5.028785e+05  \n",
       "50%                  6757.000000   4.545234e+06  \n",
       "75%                 25193.500000   2.239516e+07  \n",
       "max                 96498.000000   5.398382e+07  "
      ]
     },
     "execution_count": 100,
     "metadata": {},
     "output_type": "execute_result"
    }
   ],
   "source": [
    "states[['Persons','Males','Females','Household.size..per.household.','Literacy Rate','Literacy Rate Male',\n",
    "        'Literacy Rate Female','EmployPtage','Imp.Town.1.Population','Drinking.water.facilities','Total.workers']].describe()\n",
    "\n",
    "       "
   ]
  },
  {
   "cell_type": "markdown",
   "metadata": {},
   "source": [
    "# # Correlations b/w various columns for relations among important columns"
   ]
  },
  {
   "cell_type": "code",
   "execution_count": 114,
   "metadata": {
    "collapsed": false,
    "scrolled": true
   },
   "outputs": [
    {
     "data": {
      "text/html": [
       "<div>\n",
       "<table border=\"1\" class=\"dataframe\">\n",
       "  <thead>\n",
       "    <tr style=\"text-align: right;\">\n",
       "      <th></th>\n",
       "      <th>Persons</th>\n",
       "      <th>Males</th>\n",
       "      <th>Females</th>\n",
       "      <th>Household.size..per.household.</th>\n",
       "      <th>Literacy Rate</th>\n",
       "      <th>EmployPtage</th>\n",
       "      <th>Imp.Town.1.Population</th>\n",
       "      <th>Drinking.water.facilities</th>\n",
       "      <th>Electricity..Power.Supply.</th>\n",
       "      <th>Matric.Higher.Secondary.Diploma</th>\n",
       "    </tr>\n",
       "  </thead>\n",
       "  <tbody>\n",
       "    <tr>\n",
       "      <th>Persons</th>\n",
       "      <td>1.000000</td>\n",
       "      <td>0.999783</td>\n",
       "      <td>0.999743</td>\n",
       "      <td>0.894553</td>\n",
       "      <td>-0.366931</td>\n",
       "      <td>-0.176173</td>\n",
       "      <td>0.940716</td>\n",
       "      <td>0.894605</td>\n",
       "      <td>0.875786</td>\n",
       "      <td>0.932262</td>\n",
       "    </tr>\n",
       "    <tr>\n",
       "      <th>Males</th>\n",
       "      <td>0.999783</td>\n",
       "      <td>1.000000</td>\n",
       "      <td>0.999054</td>\n",
       "      <td>0.898963</td>\n",
       "      <td>-0.370287</td>\n",
       "      <td>-0.180297</td>\n",
       "      <td>0.940197</td>\n",
       "      <td>0.897350</td>\n",
       "      <td>0.877436</td>\n",
       "      <td>0.929051</td>\n",
       "    </tr>\n",
       "    <tr>\n",
       "      <th>Females</th>\n",
       "      <td>0.999743</td>\n",
       "      <td>0.999054</td>\n",
       "      <td>1.000000</td>\n",
       "      <td>0.889313</td>\n",
       "      <td>-0.363100</td>\n",
       "      <td>-0.171598</td>\n",
       "      <td>0.940816</td>\n",
       "      <td>0.891177</td>\n",
       "      <td>0.873557</td>\n",
       "      <td>0.935296</td>\n",
       "    </tr>\n",
       "    <tr>\n",
       "      <th>Household.size..per.household.</th>\n",
       "      <td>0.894553</td>\n",
       "      <td>0.898963</td>\n",
       "      <td>0.889313</td>\n",
       "      <td>1.000000</td>\n",
       "      <td>-0.520072</td>\n",
       "      <td>-0.180021</td>\n",
       "      <td>0.823256</td>\n",
       "      <td>0.933558</td>\n",
       "      <td>0.898915</td>\n",
       "      <td>0.760145</td>\n",
       "    </tr>\n",
       "    <tr>\n",
       "      <th>Literacy Rate</th>\n",
       "      <td>-0.366931</td>\n",
       "      <td>-0.370287</td>\n",
       "      <td>-0.363100</td>\n",
       "      <td>-0.520072</td>\n",
       "      <td>1.000000</td>\n",
       "      <td>-0.113417</td>\n",
       "      <td>-0.252318</td>\n",
       "      <td>-0.507270</td>\n",
       "      <td>-0.377662</td>\n",
       "      <td>-0.178492</td>\n",
       "    </tr>\n",
       "    <tr>\n",
       "      <th>EmployPtage</th>\n",
       "      <td>-0.176173</td>\n",
       "      <td>-0.180297</td>\n",
       "      <td>-0.171598</td>\n",
       "      <td>-0.180021</td>\n",
       "      <td>-0.113417</td>\n",
       "      <td>1.000000</td>\n",
       "      <td>-0.095266</td>\n",
       "      <td>-0.151409</td>\n",
       "      <td>-0.038468</td>\n",
       "      <td>-0.137223</td>\n",
       "    </tr>\n",
       "    <tr>\n",
       "      <th>Imp.Town.1.Population</th>\n",
       "      <td>0.940716</td>\n",
       "      <td>0.940197</td>\n",
       "      <td>0.940816</td>\n",
       "      <td>0.823256</td>\n",
       "      <td>-0.252318</td>\n",
       "      <td>-0.095266</td>\n",
       "      <td>1.000000</td>\n",
       "      <td>0.791817</td>\n",
       "      <td>0.845489</td>\n",
       "      <td>0.940450</td>\n",
       "    </tr>\n",
       "    <tr>\n",
       "      <th>Drinking.water.facilities</th>\n",
       "      <td>0.894605</td>\n",
       "      <td>0.897350</td>\n",
       "      <td>0.891177</td>\n",
       "      <td>0.933558</td>\n",
       "      <td>-0.507270</td>\n",
       "      <td>-0.151409</td>\n",
       "      <td>0.791817</td>\n",
       "      <td>1.000000</td>\n",
       "      <td>0.947455</td>\n",
       "      <td>0.742144</td>\n",
       "    </tr>\n",
       "    <tr>\n",
       "      <th>Electricity..Power.Supply.</th>\n",
       "      <td>0.875786</td>\n",
       "      <td>0.877436</td>\n",
       "      <td>0.873557</td>\n",
       "      <td>0.898915</td>\n",
       "      <td>-0.377662</td>\n",
       "      <td>-0.038468</td>\n",
       "      <td>0.845489</td>\n",
       "      <td>0.947455</td>\n",
       "      <td>1.000000</td>\n",
       "      <td>0.780632</td>\n",
       "    </tr>\n",
       "    <tr>\n",
       "      <th>Matric.Higher.Secondary.Diploma</th>\n",
       "      <td>0.932262</td>\n",
       "      <td>0.929051</td>\n",
       "      <td>0.935296</td>\n",
       "      <td>0.760145</td>\n",
       "      <td>-0.178492</td>\n",
       "      <td>-0.137223</td>\n",
       "      <td>0.940450</td>\n",
       "      <td>0.742144</td>\n",
       "      <td>0.780632</td>\n",
       "      <td>1.000000</td>\n",
       "    </tr>\n",
       "  </tbody>\n",
       "</table>\n",
       "</div>"
      ],
      "text/plain": [
       "                                  Persons     Males   Females  \\\n",
       "Persons                          1.000000  0.999783  0.999743   \n",
       "Males                            0.999783  1.000000  0.999054   \n",
       "Females                          0.999743  0.999054  1.000000   \n",
       "Household.size..per.household.   0.894553  0.898963  0.889313   \n",
       "Literacy Rate                   -0.366931 -0.370287 -0.363100   \n",
       "EmployPtage                     -0.176173 -0.180297 -0.171598   \n",
       "Imp.Town.1.Population            0.940716  0.940197  0.940816   \n",
       "Drinking.water.facilities        0.894605  0.897350  0.891177   \n",
       "Electricity..Power.Supply.       0.875786  0.877436  0.873557   \n",
       "Matric.Higher.Secondary.Diploma  0.932262  0.929051  0.935296   \n",
       "\n",
       "                                 Household.size..per.household.  \\\n",
       "Persons                                                0.894553   \n",
       "Males                                                  0.898963   \n",
       "Females                                                0.889313   \n",
       "Household.size..per.household.                         1.000000   \n",
       "Literacy Rate                                         -0.520072   \n",
       "EmployPtage                                           -0.180021   \n",
       "Imp.Town.1.Population                                  0.823256   \n",
       "Drinking.water.facilities                              0.933558   \n",
       "Electricity..Power.Supply.                             0.898915   \n",
       "Matric.Higher.Secondary.Diploma                        0.760145   \n",
       "\n",
       "                                 Literacy Rate  EmployPtage  \\\n",
       "Persons                              -0.366931    -0.176173   \n",
       "Males                                -0.370287    -0.180297   \n",
       "Females                              -0.363100    -0.171598   \n",
       "Household.size..per.household.       -0.520072    -0.180021   \n",
       "Literacy Rate                         1.000000    -0.113417   \n",
       "EmployPtage                          -0.113417     1.000000   \n",
       "Imp.Town.1.Population                -0.252318    -0.095266   \n",
       "Drinking.water.facilities            -0.507270    -0.151409   \n",
       "Electricity..Power.Supply.           -0.377662    -0.038468   \n",
       "Matric.Higher.Secondary.Diploma      -0.178492    -0.137223   \n",
       "\n",
       "                                 Imp.Town.1.Population  \\\n",
       "Persons                                       0.940716   \n",
       "Males                                         0.940197   \n",
       "Females                                       0.940816   \n",
       "Household.size..per.household.                0.823256   \n",
       "Literacy Rate                                -0.252318   \n",
       "EmployPtage                                  -0.095266   \n",
       "Imp.Town.1.Population                         1.000000   \n",
       "Drinking.water.facilities                     0.791817   \n",
       "Electricity..Power.Supply.                    0.845489   \n",
       "Matric.Higher.Secondary.Diploma               0.940450   \n",
       "\n",
       "                                 Drinking.water.facilities  \\\n",
       "Persons                                           0.894605   \n",
       "Males                                             0.897350   \n",
       "Females                                           0.891177   \n",
       "Household.size..per.household.                    0.933558   \n",
       "Literacy Rate                                    -0.507270   \n",
       "EmployPtage                                      -0.151409   \n",
       "Imp.Town.1.Population                             0.791817   \n",
       "Drinking.water.facilities                         1.000000   \n",
       "Electricity..Power.Supply.                        0.947455   \n",
       "Matric.Higher.Secondary.Diploma                   0.742144   \n",
       "\n",
       "                                 Electricity..Power.Supply.  \\\n",
       "Persons                                            0.875786   \n",
       "Males                                              0.877436   \n",
       "Females                                            0.873557   \n",
       "Household.size..per.household.                     0.898915   \n",
       "Literacy Rate                                     -0.377662   \n",
       "EmployPtage                                       -0.038468   \n",
       "Imp.Town.1.Population                              0.845489   \n",
       "Drinking.water.facilities                          0.947455   \n",
       "Electricity..Power.Supply.                         1.000000   \n",
       "Matric.Higher.Secondary.Diploma                    0.780632   \n",
       "\n",
       "                                 Matric.Higher.Secondary.Diploma  \n",
       "Persons                                                 0.932262  \n",
       "Males                                                   0.929051  \n",
       "Females                                                 0.935296  \n",
       "Household.size..per.household.                          0.760145  \n",
       "Literacy Rate                                          -0.178492  \n",
       "EmployPtage                                            -0.137223  \n",
       "Imp.Town.1.Population                                   0.940450  \n",
       "Drinking.water.facilities                               0.742144  \n",
       "Electricity..Power.Supply.                              0.780632  \n",
       "Matric.Higher.Secondary.Diploma                         1.000000  "
      ]
     },
     "execution_count": 114,
     "metadata": {},
     "output_type": "execute_result"
    }
   ],
   "source": [
    "states[['Persons','Males','Females','Household.size..per.household.','Literacy Rate','EmployPtage','Imp.Town.1.Population',\n",
    "        'Drinking.water.facilities','Electricity..Power.Supply.','Matric.Higher.Secondary.Diploma']].corr()\n",
    "       \n",
    "\n",
    "       "
   ]
  },
  {
   "cell_type": "markdown",
   "metadata": {},
   "source": [
    "# Correlation of -0.11 between Employment ratio and Literacy Rate"
   ]
  },
  {
   "cell_type": "code",
   "execution_count": 109,
   "metadata": {
    "collapsed": false
   },
   "outputs": [
    {
     "data": {
      "text/plain": [
       "<matplotlib.axes._subplots.AxesSubplot at 0x5e63b91748>"
      ]
     },
     "execution_count": 109,
     "metadata": {},
     "output_type": "execute_result"
    },
    {
     "data": {
      "image/png": "[encoded data removed]",
      "text/plain": [
       "<matplotlib.figure.Figure at 0x5e63b9fba8>"
      ]
     },
     "metadata": {},
     "output_type": "display_data"
    }
   ],
   "source": [
    "fig, ax = plt.subplots()\n",
    "fig.set_size_inches(10, 5)\n",
    "sns.regplot(x='EmployPtage',y='Literacy Rate',data=states,ax=ax)"
   ]
  },
  {
   "cell_type": "markdown",
   "metadata": {},
   "source": [
    "# As the population increases, literacy rate seems to decrease"
   ]
  },
  {
   "cell_type": "code",
   "execution_count": 108,
   "metadata": {
    "collapsed": false
   },
   "outputs": [
    {
     "data": {
      "text/plain": [
       "<matplotlib.axes._subplots.AxesSubplot at 0x5e5fb26080>"
      ]
     },
     "execution_count": 108,
     "metadata": {},
     "output_type": "execute_result"
    },
    {
     "data": {
      "image/png": "[encoded data removed]",
      "text/plain": [
       "<matplotlib.figure.Figure at 0x5e61de2160>"
      ]
     },
     "metadata": {},
     "output_type": "display_data"
    }
   ],
   "source": [
    "fig, ax = plt.subplots()\n",
    "fig.set_size_inches(10, 5)\n",
    "sns.regplot(x='Persons',y='Literacy Rate',data=states,ax=ax)"
   ]
  },
  {
   "cell_type": "markdown",
   "metadata": {},
   "source": [
    "# Number of drinking and electric supply facilities vary almost linearly"
   ]
  },
  {
   "cell_type": "code",
   "execution_count": 115,
   "metadata": {
    "collapsed": false
   },
   "outputs": [
    {
     "data": {
      "text/plain": [
       "<matplotlib.axes._subplots.AxesSubplot at 0x5e63a7dfd0>"
      ]
     },
     "execution_count": 115,
     "metadata": {},
     "output_type": "execute_result"
    },
    {
     "data": {
      "image/png": "[encoded data removed]",
      "text/plain": [
       "<matplotlib.figure.Figure at 0x5e61e07240>"
      ]
     },
     "metadata": {},
     "output_type": "display_data"
    }
   ],
   "source": [
    "fig, ax = plt.subplots()\n",
    "fig.set_size_inches(10, 5)\n",
    "sns.regplot(x='Electricity..Power.Supply.',y='Drinking.water.facilities',data=states,ax=ax)"
   ]
  }
 ],
 "metadata": {
  "kernelspec": {
   "display_name": "Python 3",
   "language": "python",
   "name": "python3"
  },
  "language_info": {
   "codemirror_mode": {
    "name": "ipython",
    "version": 3
   },
   "file_extension": ".py",
   "mimetype": "text/x-python",
   "name": "python",
   "nbconvert_exporter": "python",
   "pygments_lexer": "ipython3",
   "version": "3.5.2"
  }
 },
 "nbformat": 4,
 "nbformat_minor": 0
}
